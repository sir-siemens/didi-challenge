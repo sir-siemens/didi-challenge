{
 "cells": [
  {
   "cell_type": "code",
   "execution_count": 1,
   "metadata": {
    "collapsed": false,
    "deletable": true,
    "editable": true
   },
   "outputs": [
    {
     "name": "stdout",
     "output_type": "stream",
     "text": [
      "parsing tracklet file /home/cd/udacity_workspace/kitti2bag/raw_data_downloader/2011_09_26/2011_09_26_drive_0001_sync/tracklet_labels.xml\n",
      "file contains 15 tracklets\n",
      "loaded 15 tracklets\n",
      "tracklet   0: [Tracklet over 14 frames for Car]\n",
      "tracklet   1: [Tracklet over 21 frames for Car]\n",
      "tracklet   2: [Tracklet over 27 frames for Car]\n",
      "tracklet   3: [Tracklet over 108 frames for Tram]\n",
      "tracklet   4: [Tracklet over 34 frames for Car]\n",
      "tracklet   5: [Tracklet over 29 frames for Car]\n",
      "tracklet   6: [Tracklet over 32 frames for Car]\n",
      "tracklet   7: [Tracklet over 37 frames for Car]\n",
      "tracklet   8: [Tracklet over 36 frames for Car]\n",
      "tracklet   9: [Tracklet over 47 frames for Car]\n",
      "tracklet  10: [Tracklet over 75 frames for Cyclist]\n",
      "tracklet  11: [Tracklet over 37 frames for Cyclist]\n",
      "tracklet  12: [Tracklet over 23 frames for Car]\n",
      "tracklet  13: [Tracklet over 37 frames for Car]\n",
      "tracklet  14: [Tracklet over 15 frames for Car]\n"
     ]
    }
   ],
   "source": [
    "import parseTrackletXML as xmlParser\n",
    "\n",
    "kittiDir = '/home/cd/udacity_workspace/kitti2bag/raw_data_downloader/2011_09_26'\n",
    "drive = '2011_09_26_drive_0001_sync'\n",
    "tracklets = xmlParser.example(kittiDir, drive)"
   ]
  },
  {
   "cell_type": "code",
   "execution_count": null,
   "metadata": {
    "collapsed": false,
    "deletable": true,
    "editable": true
   },
   "outputs": [],
   "source": [
    "for iTracklet, tracklet in enumerate(tracklets):\n",
    "    print ('tracklet {0: 3d}: {1}'.format(iTracklet, tracklet) )\n",
    "   \n",
    "    for translation, rotation, state, occlusion, truncation, amtOcclusion, amtBorders, absoluteFrameNumber in tracklet:\n",
    "        # print (absoluteFrameNumber)        \n",
    "        # end: for all frames\n",
    "        pass\n",
    "    #end: for all tracklets\n",
    "    \n",
    "# create a data frame that including all the tracelet\n"
   ]
  },
  {
   "cell_type": "code",
   "execution_count": 2,
   "metadata": {
    "collapsed": false,
    "deletable": true,
    "editable": true
   },
   "outputs": [],
   "source": [
    "import numpy as np\n",
    "import pandas as pd\n",
    "df = pd.DataFrame( columns = ['frame_nr','object','tx', 'ty', 'tz','rz','height','width','length'])\n",
    "\n",
    "for iTracklet, tracklet in enumerate(tracklets):\n",
    "    # print ('tracklet {0: 3d}: {1}'.format(iTracklet, tracklet) )\n",
    "   \n",
    "    for translation, rotation, state, occlusion, truncation, amtOcclusion, amtBorders, absoluteFrameNumber in tracklet:\n",
    "        # print (absoluteFrameNumber)        \n",
    "        # end: for all frames\n",
    "        df.loc[len(df)]=[int(absoluteFrameNumber),tracklet.objectType, translation[0] , translation[1], translation[2], rotation[2], tracklet.size[0], tracklet.size[1],tracklet.size[2]] \n",
    "    #end: for all tracklets\n",
    "\n",
    "# change type of frame \n",
    "df['frame_nr'] = df['frame_nr'].astype(int)\n"
   ]
  },
  {
   "cell_type": "code",
   "execution_count": 3,
   "metadata": {
    "collapsed": false,
    "deletable": true,
    "editable": true
   },
   "outputs": [
    {
     "name": "stdout",
     "output_type": "stream",
     "text": [
      "107\n"
     ]
    }
   ],
   "source": [
    "number_of_frame = np.amax(df.frame_nr)\n",
    "print (number_of_frame)"
   ]
  },
  {
   "cell_type": "code",
   "execution_count": null,
   "metadata": {
    "collapsed": false,
    "deletable": true,
    "editable": true
   },
   "outputs": [],
   "source": [
    "import cv2\n",
    "\n",
    "number_of_frame = np.amax(df.frame_nr)\n",
    "layer_nr = 2\n",
    "prefix = '2011_09_26_drive_0001' \n",
    "\n",
    "\n",
    "for i in range(number_of_frame):\n",
    "    df_frame_car = df[ ( (df.frame_nr == i) & (df.object == 'Car')) ]\n",
    "    # create training label\n",
    "    \n",
    "    # draw bounding box on the image \n",
    "    name = './'+ 'rosws/train_data/'+ prefix + '_'+  str(i) + '_'+ str(layer_nr) + '.png'\n",
    "    vis_name = './'+ 'rosws/train_data/'+ prefix + '_'+  str(i) + '_bb'+'.png'\n",
    "\n",
    "    image = cv2.imread(name)\n",
    "        \n",
    "    # iterate data frame\n",
    "    for index, row in df_frame_car.iterrows():\n",
    "        # print (row.frame_nr, row.object)\n",
    "        ( fl , fr, rr, rl) = compute_bb_pixel_coordinate( row.tx, row.ty, row.rz, row.width, row.length) \n",
    "        vetexes = np.array([fl , fr, rr, rl ],np.int32)\n",
    "        cv2.polylines(image, np.int32([vetexes]), True, (0,255,0), 2)\n",
    "        #cv2.rectangle(image, fl ,rr,(0,255,0),2)\n",
    "    \n",
    "    # save image\n",
    "    print (vis_name)\n",
    "    cv2.imwrite(vis_name, image)\n"
   ]
  },
  {
   "cell_type": "code",
   "execution_count": 4,
   "metadata": {
    "collapsed": false,
    "deletable": true,
    "editable": true,
    "scrolled": false
   },
   "outputs": [
    {
     "data": {
      "text/html": [
       "<div>\n",
       "<table border=\"1\" class=\"dataframe\">\n",
       "  <thead>\n",
       "    <tr style=\"text-align: right;\">\n",
       "      <th></th>\n",
       "      <th>frame_nr</th>\n",
       "      <th>object</th>\n",
       "      <th>tx</th>\n",
       "      <th>ty</th>\n",
       "      <th>tz</th>\n",
       "      <th>rz</th>\n",
       "      <th>height</th>\n",
       "      <th>width</th>\n",
       "      <th>length</th>\n",
       "    </tr>\n",
       "  </thead>\n",
       "  <tbody>\n",
       "    <tr>\n",
       "      <th>0</th>\n",
       "      <td>0</td>\n",
       "      <td>Car</td>\n",
       "      <td>25.212516</td>\n",
       "      <td>8.603392</td>\n",
       "      <td>-1.792157</td>\n",
       "      <td>-3.184200</td>\n",
       "      <td>2.167235</td>\n",
       "      <td>1.705712</td>\n",
       "      <td>4.329356</td>\n",
       "    </tr>\n",
       "    <tr>\n",
       "      <th>14</th>\n",
       "      <td>0</td>\n",
       "      <td>Car</td>\n",
       "      <td>33.648306</td>\n",
       "      <td>7.928600</td>\n",
       "      <td>-1.732406</td>\n",
       "      <td>3.070164</td>\n",
       "      <td>1.732879</td>\n",
       "      <td>1.601504</td>\n",
       "      <td>4.112924</td>\n",
       "    </tr>\n",
       "    <tr>\n",
       "      <th>35</th>\n",
       "      <td>0</td>\n",
       "      <td>Car</td>\n",
       "      <td>42.997023</td>\n",
       "      <td>7.207521</td>\n",
       "      <td>-1.493238</td>\n",
       "      <td>3.060272</td>\n",
       "      <td>1.465181</td>\n",
       "      <td>1.627679</td>\n",
       "      <td>4.110422</td>\n",
       "    </tr>\n",
       "    <tr>\n",
       "      <th>170</th>\n",
       "      <td>0</td>\n",
       "      <td>Car</td>\n",
       "      <td>49.766171</td>\n",
       "      <td>6.450322</td>\n",
       "      <td>-1.485013</td>\n",
       "      <td>3.042997</td>\n",
       "      <td>1.801963</td>\n",
       "      <td>1.605626</td>\n",
       "      <td>3.831222</td>\n",
       "    </tr>\n",
       "  </tbody>\n",
       "</table>\n",
       "</div>"
      ],
      "text/plain": [
       "     frame_nr object         tx        ty        tz        rz    height  \\\n",
       "0           0    Car  25.212516  8.603392 -1.792157 -3.184200  2.167235   \n",
       "14          0    Car  33.648306  7.928600 -1.732406  3.070164  1.732879   \n",
       "35          0    Car  42.997023  7.207521 -1.493238  3.060272  1.465181   \n",
       "170         0    Car  49.766171  6.450322 -1.485013  3.042997  1.801963   \n",
       "\n",
       "        width    length  \n",
       "0    1.705712  4.329356  \n",
       "14   1.601504  4.112924  \n",
       "35   1.627679  4.110422  \n",
       "170  1.605626  3.831222  "
      ]
     },
     "execution_count": 4,
     "metadata": {},
     "output_type": "execute_result"
    }
   ],
   "source": [
    "df[ ( (df.frame_nr == 0) & (df.object == 'Car')) ]"
   ]
  },
  {
   "cell_type": "code",
   "execution_count": 5,
   "metadata": {
    "collapsed": false,
    "deletable": true,
    "editable": true
   },
   "outputs": [
    {
     "data": {
      "text/html": [
       "<div>\n",
       "<table border=\"1\" class=\"dataframe\">\n",
       "  <thead>\n",
       "    <tr style=\"text-align: right;\">\n",
       "      <th></th>\n",
       "      <th>frame_nr</th>\n",
       "      <th>object</th>\n",
       "      <th>tx</th>\n",
       "      <th>ty</th>\n",
       "      <th>tz</th>\n",
       "      <th>rz</th>\n",
       "      <th>height</th>\n",
       "      <th>width</th>\n",
       "      <th>length</th>\n",
       "    </tr>\n",
       "  </thead>\n",
       "  <tbody>\n",
       "    <tr>\n",
       "      <th>10</th>\n",
       "      <td>10</td>\n",
       "      <td>Car</td>\n",
       "      <td>11.739630</td>\n",
       "      <td>9.041578</td>\n",
       "      <td>-1.864243</td>\n",
       "      <td>-3.164222</td>\n",
       "      <td>2.167235</td>\n",
       "      <td>1.705712</td>\n",
       "      <td>4.329356</td>\n",
       "    </tr>\n",
       "    <tr>\n",
       "      <th>24</th>\n",
       "      <td>10</td>\n",
       "      <td>Car</td>\n",
       "      <td>20.133082</td>\n",
       "      <td>8.644599</td>\n",
       "      <td>-1.773585</td>\n",
       "      <td>3.092659</td>\n",
       "      <td>1.732879</td>\n",
       "      <td>1.601504</td>\n",
       "      <td>4.112924</td>\n",
       "    </tr>\n",
       "    <tr>\n",
       "      <th>45</th>\n",
       "      <td>10</td>\n",
       "      <td>Car</td>\n",
       "      <td>29.475826</td>\n",
       "      <td>8.164261</td>\n",
       "      <td>-1.613912</td>\n",
       "      <td>3.079196</td>\n",
       "      <td>1.465181</td>\n",
       "      <td>1.627679</td>\n",
       "      <td>4.110422</td>\n",
       "    </tr>\n",
       "    <tr>\n",
       "      <th>180</th>\n",
       "      <td>10</td>\n",
       "      <td>Car</td>\n",
       "      <td>36.281371</td>\n",
       "      <td>7.568980</td>\n",
       "      <td>-1.548274</td>\n",
       "      <td>3.072846</td>\n",
       "      <td>1.801963</td>\n",
       "      <td>1.605626</td>\n",
       "      <td>3.831222</td>\n",
       "    </tr>\n",
       "    <tr>\n",
       "      <th>206</th>\n",
       "      <td>10</td>\n",
       "      <td>Car</td>\n",
       "      <td>41.302402</td>\n",
       "      <td>7.120643</td>\n",
       "      <td>-1.556183</td>\n",
       "      <td>3.074440</td>\n",
       "      <td>1.445430</td>\n",
       "      <td>1.446091</td>\n",
       "      <td>3.399113</td>\n",
       "    </tr>\n",
       "    <tr>\n",
       "      <th>233</th>\n",
       "      <td>10</td>\n",
       "      <td>Car</td>\n",
       "      <td>46.079759</td>\n",
       "      <td>6.804262</td>\n",
       "      <td>-1.591918</td>\n",
       "      <td>3.061908</td>\n",
       "      <td>1.752060</td>\n",
       "      <td>1.713728</td>\n",
       "      <td>4.314772</td>\n",
       "    </tr>\n",
       "  </tbody>\n",
       "</table>\n",
       "</div>"
      ],
      "text/plain": [
       "     frame_nr object         tx        ty        tz        rz    height  \\\n",
       "10         10    Car  11.739630  9.041578 -1.864243 -3.164222  2.167235   \n",
       "24         10    Car  20.133082  8.644599 -1.773585  3.092659  1.732879   \n",
       "45         10    Car  29.475826  8.164261 -1.613912  3.079196  1.465181   \n",
       "180        10    Car  36.281371  7.568980 -1.548274  3.072846  1.801963   \n",
       "206        10    Car  41.302402  7.120643 -1.556183  3.074440  1.445430   \n",
       "233        10    Car  46.079759  6.804262 -1.591918  3.061908  1.752060   \n",
       "\n",
       "        width    length  \n",
       "10   1.705712  4.329356  \n",
       "24   1.601504  4.112924  \n",
       "45   1.627679  4.110422  \n",
       "180  1.605626  3.831222  \n",
       "206  1.446091  3.399113  \n",
       "233  1.713728  4.314772  "
      ]
     },
     "execution_count": 5,
     "metadata": {},
     "output_type": "execute_result"
    }
   ],
   "source": [
    "df[ ( (df.frame_nr == 10) & (df.object == 'Car')) ]"
   ]
  },
  {
   "cell_type": "code",
   "execution_count": 6,
   "metadata": {
    "collapsed": false,
    "deletable": true,
    "editable": true
   },
   "outputs": [],
   "source": [
    "def metric2pixel(x,y,resolution = 0.1, width_meter = 80, height_meter = 50 ):\n",
    "    px = x / resolution +  width_meter/resolution / 2.0  ;\n",
    "    py = -y / resolution +  height_meter/resolution / 2.0  ;\n",
    "    return np.array([int(px), int(py)])"
   ]
  },
  {
   "cell_type": "code",
   "execution_count": 7,
   "metadata": {
    "collapsed": false,
    "deletable": true,
    "editable": true
   },
   "outputs": [],
   "source": [
    "from math import cos\n",
    "from math import sin\n",
    "\n",
    "def compute_bb_pixel_coordinate ( tx, ty , rz, width, length ):\n",
    "    # compute front left (fl) and rear right (rr) pt\n",
    "    # transform velodye to car\n",
    "    vTc_trans = np.array([[1,0,tx], [0,1,ty], [0, 0, 1] ]) \n",
    "    vTc_rot =   np.array([  [cos(rz), -sin(rz), 0], [sin(rz), cos(rz), 0 ] , [0, 0, 1] ]) \n",
    "    vTc = vTc_trans.dot(vTc_rot)\n",
    "    \n",
    "    p_flIncar =  np.array( [length / 2.0 ,  width/2.0, 1] )\n",
    "    p_flInvelo =  vTc.dot(p_flIncar.transpose())\n",
    "    \n",
    "    p_frIncar =  np.array( [length / 2.0 , -width/2.0, 1])\n",
    "    p_frInvelo =  vTc.dot(p_frIncar.transpose())\n",
    "\n",
    " \n",
    "    p_rrIncar =  np.array( [-length / 2.0 , -width/2.0, 1])\n",
    "    p_rrInvelo =  vTc.dot(p_rrIncar.transpose())\n",
    "\n",
    "    p_rlIncar =  np.array( [-length / 2.0 , width/2.0, 1])\n",
    "    p_rlnvelo =  vTc.dot(p_rlIncar.transpose())\n",
    " \n",
    "    \n",
    "    # now compute to pixel cooridnate\n",
    "    fl = metric2pixel( p_flInvelo[0], p_flInvelo[1])\n",
    "    fr = metric2pixel( p_frInvelo[0], p_frInvelo[1])\n",
    "    rr = metric2pixel( p_rrInvelo[0], p_rrInvelo[1])\n",
    "    rl = metric2pixel( p_rlnvelo[0], p_rlnvelo[1])\n",
    "    return (fl, fr, rr, rl)\n",
    "\n"
   ]
  },
  {
   "cell_type": "code",
   "execution_count": 9,
   "metadata": {
    "collapsed": false,
    "deletable": true,
    "editable": true
   },
   "outputs": [
    {
     "data": {
      "text/plain": [
       "<matplotlib.image.AxesImage at 0x7fea84ae4630>"
      ]
     },
     "execution_count": 9,
     "metadata": {},
     "output_type": "execute_result"
    },
    {
     "data": {
      "image/png": "[encoded data removed]",
      "text/plain": [
       "<matplotlib.figure.Figure at 0x7fea97525588>"
      ]
     },
     "metadata": {},
     "output_type": "display_data"
    }
   ],
   "source": [
    "import cv2\n",
    "import matplotlib.pyplot as plt\n",
    "%matplotlib inline\n",
    "\n",
    "prefix = '2011_09_26_drive_0001' \n",
    "frame_nr = 20\n",
    "layer_nr = 4\n",
    "name = './'+ 'rosws/train_data/'+ prefix + '_'+  str(frame_nr) + '_'+ str(layer_nr) + '.png'\n",
    "image = cv2.imread(name)\n",
    "image.shape\n",
    "\n",
    "df_frame_car = df[ ( (df.frame_nr == frame_nr) & (df.object == 'Car')) ]\n",
    "\n",
    "for index, row in df_frame_car.iterrows():\n",
    "        # print (row.frame_nr, row.object)\n",
    "        ( fl , fr, rr, rl) = compute_bb_pixel_coordinate( row.tx, row.ty, row.rz, row.width, row.length) \n",
    "        vetexes = np.array([fl , fr, rr, rl ],np.int32)\n",
    "        cv2.polylines(image, np.int32([vetexes]), True, (0,255,0), 1)\n",
    "        #cv2.rectangle(image, fl ,rr,(0,255,0),2)\n",
    "\n",
    "plt.figure(1, figsize=(50,10))\n",
    "\n",
    "vlines = np.arange(0,500,50)\n",
    "hlines = np.arange(0,800,50)\n",
    "\n",
    "for v_pos in vlines:   \n",
    "    cv2.line(image, (0, v_pos), (800, v_pos), (255,0,0))\n",
    "for h_pos in hlines:   \n",
    "    cv2.line(image, (h_pos, 0), (h_pos, 500), (255,0,0))\n",
    "plt.imshow(image)\n",
    "# cv2.imwrite('test.png', image)\n",
    "\n",
    " "
   ]
  },
  {
   "cell_type": "code",
   "execution_count": null,
   "metadata": {
    "collapsed": false,
    "deletable": true,
    "editable": true
   },
   "outputs": [],
   "source": [
    "vlines = np.arange(100,500,100)\n",
    "hlines = np.arange(100,800,100)"
   ]
  },
  {
   "cell_type": "code",
   "execution_count": null,
   "metadata": {
    "collapsed": false,
    "deletable": true,
    "editable": true
   },
   "outputs": [],
   "source": [
    "hlines = np.arange(0,800,50)\n"
   ]
  },
  {
   "cell_type": "code",
   "execution_count": null,
   "metadata": {
    "collapsed": false,
    "deletable": true,
    "editable": true
   },
   "outputs": [],
   "source": [
    "hlines"
   ]
  },
  {
   "cell_type": "code",
   "execution_count": null,
   "metadata": {
    "collapsed": false,
    "deletable": true,
    "editable": true
   },
   "outputs": [],
   "source": [
    "# global parameter \n",
    "grid_resolution = 50 #pixel \n",
    "image_width = 800  #pixel\n",
    "image_height = 500 #pixel\n",
    "h_grid_nr = int (image_width / grid_resolution)\n",
    "v_grid_nr = int (image_height / grid_resolution)\n",
    "\n",
    "# s: condidence, tx, ty , rz, width, length\n",
    "print('label shape {0:2d} x {1:2d} x 6'.format(h_grid_nr,v_grid_nr ))\n",
    "label = np.zeros([h_grid_nr, v_grid_nr , 6])"
   ]
  },
  {
   "cell_type": "code",
   "execution_count": null,
   "metadata": {
    "collapsed": false,
    "deletable": true,
    "editable": true
   },
   "outputs": [],
   "source": [
    "def create_training_label(df_car):\n",
    "    label =  np.zeros([h_grid_nr, v_grid_nr , 6])\n",
    "    for index, row in df_car.iterrows():\n",
    "        # print (row.frame_nr, row.object)\n",
    "        #( fl , fr, rr, rl) = compute_bb_pixel_coordinate( row.tx, row.ty, row.rz, row.width, row.length) \n",
    "        car_center_pixel = metric2pixel( row.tx, row.ty)\n",
    "        # only consider pixel in image range\n",
    "        if car_center_pixel[0] < image_width and car_center_pixel[1] < image_height:       \n",
    "            print (car_center_pixel)\n",
    "            x = int(np.ceil( car_center_pixel[0] / grid_resolution ) - 1 )\n",
    "            y = int(np.ceil( car_center_pixel[1] / grid_resolution ) - 1 )\n",
    "            # x y is the position of grid\n",
    "            # set confidence\n",
    "            label[x][y][0] = 1.0\n",
    "            # set normalized tx \n",
    "            label[x][y][1] = car_center_pixel[0] / grid_resolution - x \n",
    "            label[x][y][2] = car_center_pixel[1] / grid_resolution - y \n",
    "            label[x][y][3] = (row.rz + np.pi) / (2 * np.pi)\n",
    "            label[x][y][4] = row.width / 5\n",
    "            label[x][y][5] = row.length / 5\n",
    "            # print(x,y)\n",
    "            # print (label[x][y])\n",
    "    return label\n",
    "            "
   ]
  },
  {
   "cell_type": "code",
   "execution_count": null,
   "metadata": {
    "collapsed": false,
    "deletable": true,
    "editable": true
   },
   "outputs": [],
   "source": [
    "y_train = create_training_label(df_frame_car)\n",
    "y_train.shape\n",
    "y_train.flatten\n"
   ]
  },
  {
   "cell_type": "code",
   "execution_count": null,
   "metadata": {
    "collapsed": false,
    "deletable": true,
    "editable": true
   },
   "outputs": [],
   "source": [
    "# training number \n",
    "train_nr = 1 \n",
    "layer_nr = 8\n",
    "train = np.zeros( [train_nr, image_height, image_width, layer_nr])\n",
    "train.shape\n",
    "# fill in training data\n",
    "for i in range(layer_nr):\n",
    "    name = './'+ 'rosws/train_data/'+ prefix + '_'+  str(frame_nr) + '_'+ str(i) + '.png'\n",
    "    image = cv2.imread(name)\n",
    "    gray_image = cv2.cvtColor(image, cv2.COLOR_BGR2GRAY)\n",
    "    \n",
    "    # crop all the left part\n",
    "    gray_image[0:int(image_height), 0:int(image_width/2)] = gray_image[0:int(image_height), 0:int(image_width/2)] * 0.0\n",
    "    gray_image = gray_image/255.0\n",
    "    train[0,:,:,i] =  gray_image\n",
    "\n"
   ]
  },
  {
   "cell_type": "code",
   "execution_count": null,
   "metadata": {
    "collapsed": false,
    "deletable": true,
    "editable": true
   },
   "outputs": [],
   "source": [
    "print (train.shape)\n",
    "y_label = np.zeros([1,960])\n",
    "y_label[0] = y_train.flatten()\n",
    "print (y_label.shape)\n",
    "print (train.shape)\n",
    "\n",
    "y_train[9,3,:]\n",
    "\n",
    "test = y_label * y_label\n",
    "print (test.shape)\n",
    "\n",
    "weight_mat = np.zeros(y_label.shape)\n",
    "weight_mat.shape\n",
    "weight_mat = np.zeros([h_grid_nr, v_grid_nr , 6] )\n",
    "for i in range(h_grid_nr):\n",
    "    for j in range(v_grid_nr):\n",
    "        weight_mat[i,j,:] = [5,0.5,0.5,0.5,0.5,0.5]\n",
    "\n",
    "flattened_weight_mat = weight_mat.flatten()\n",
    "print (y_label)"
   ]
  },
  {
   "cell_type": "code",
   "execution_count": null,
   "metadata": {
    "collapsed": false,
    "deletable": true,
    "editable": true
   },
   "outputs": [],
   "source": [
    "from keras import backend as K\n",
    "\n",
    "def custom_loss(y_true, y_pred):\n",
    "    '''Just another crossentropy'''\n",
    "    #y_pred = T.clip(y_pred, epsilon, 1.0 - epsilon)\n",
    "    #y_pred /= y_pred.sum(axis=-1, keepdims=True)\n",
    "    #cce = T.nnet.categorical_crossentropy(y_pred, y_true)\n",
    "  \n",
    "    return K.mean(  (y_true - y_pred) * (y_true - y_pred) * flattened_weight_mat )"
   ]
  },
  {
   "cell_type": "code",
   "execution_count": null,
   "metadata": {
    "collapsed": false,
    "deletable": true,
    "editable": true
   },
   "outputs": [],
   "source": [
    "# define network architecture \n",
    "from keras.models import Sequential\n",
    "from keras.layers import Conv2D, Flatten, Dense , Lambda, MaxPooling2D, Dropout,Cropping2D\n",
    "from keras.optimizers import Adam\n",
    "\n",
    "model = Sequential()\n",
    "# conv_net\n",
    "model.add(Conv2D( 24, 5, 5, input_shape=(500, 800, 8), activation='relu' ))\n",
    "model.add(MaxPooling2D(pool_size=(2, 2)))\n",
    "model.add(Conv2D( 36, 5, 5,  activation='relu'))\n",
    "model.add(MaxPooling2D(pool_size=(2, 2)))\n",
    "model.add(Conv2D( 48, 5, 5,  activation='relu'))\n",
    "model.add(MaxPooling2D(pool_size=(2, 2)))\n",
    "model.add(Conv2D(64, 3, 3, activation='relu'))\n",
    "model.add(MaxPooling2D(pool_size=(2, 2)))\n",
    "model.add(Conv2D(64, 3, 3, activation='relu'))\n",
    "model.add(MaxPooling2D(pool_size=(2, 2)))\n",
    "model.add(Conv2D(128, 3, 3, activation='relu'))\n",
    "model.add(MaxPooling2D(pool_size=(2, 2)))\n",
    "model.add(Flatten())\n",
    "#model.add(Dense(2048))\n",
    "model.add(Dense(960))\n",
    "adam = Adam(lr=1e-5)\n",
    "model.compile(optimizer=adam, loss=custom_loss)\n",
    "model.summary()\n",
    "\n",
    "model.fit(train, y_label, batch_size=1 ,nb_epoch= 100, verbose=1)\n",
    "# model.fit_generator(train_generator, samples_per_epoch= 3 * len(train_samples), validation_data=validation_generator, nb_val_samples=3 * len(validation_samples), nb_epoch=5)\n",
    "# model.save('nvidia_model.h5')\n"
   ]
  },
  {
   "cell_type": "code",
   "execution_count": null,
   "metadata": {
    "collapsed": true,
    "deletable": true,
    "editable": true
   },
   "outputs": [],
   "source": []
  }
 ],
 "metadata": {
  "anaconda-cloud": {},
  "kernelspec": {
   "display_name": "Python 3",
   "language": "python",
   "name": "python3"
  },
  "language_info": {
   "codemirror_mode": {
    "name": "ipython",
    "version": 3
   },
   "file_extension": ".py",
   "mimetype": "text/x-python",
   "name": "python",
   "nbconvert_exporter": "python",
   "pygments_lexer": "ipython3",
   "version": "3.5.2"
  },
  "widgets": {
   "state": {},
   "version": "1.1.2"
  }
 },
 "nbformat": 4,
 "nbformat_minor": 2
}
